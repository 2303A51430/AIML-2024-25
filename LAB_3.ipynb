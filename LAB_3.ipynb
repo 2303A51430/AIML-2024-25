{
  "nbformat": 4,
  "nbformat_minor": 0,
  "metadata": {
    "colab": {
      "provenance": [],
      "authorship_tag": "ABX9TyNXS32sQensu9x05yZcr413",
      "include_colab_link": true
    },
    "kernelspec": {
      "name": "python3",
      "display_name": "Python 3"
    },
    "language_info": {
      "name": "python"
    }
  },
  "cells": [
    {
      "cell_type": "markdown",
      "metadata": {
        "id": "view-in-github",
        "colab_type": "text"
      },
      "source": [
        "<a href=\"https://colab.research.google.com/github/2303A51430/AIML-2024-25/blob/main/LAB_3.ipynb\" target=\"_parent\"><img src=\"https://colab.research.google.com/assets/colab-badge.svg\" alt=\"Open In Colab\"/></a>"
      ]
    },
    {
      "cell_type": "markdown",
      "source": [
        " 1 Implement the AI Game Strategy\n",
        " **bold text**"
      ],
      "metadata": {
        "id": "HqA-2lB8N9Zy"
      }
    },
    {
      "cell_type": "markdown",
      "source": [
        " Part 1 (a). Install the Python Libraries required for Game Strategy."
      ],
      "metadata": {
        "id": "-Uv_3z8COHhe"
      }
    },
    {
      "cell_type": "code",
      "execution_count": 14,
      "metadata": {
        "id": "D_MSbfQMN59z"
      },
      "outputs": [],
      "source": [
        " class Game:\n",
        "    def actions(self,state):\n",
        "      return #a collection of the allowable moves from this state.\n",
        "      raise NotImplementedError\n",
        "    def result(self,state,move):\n",
        "      return #the state that results from making a move from a state.\n",
        "      raise NotImplementedError\n",
        "    def is_terminal(self,state):\n",
        "      return #True if this is a final state for the game.\n",
        "      return #not self actions(state)\n",
        "    def utility(self,state,player):\n",
        "      return #the value of this final state to player.\n",
        "      raise NotImplementedError"
      ]
    },
    {
      "cell_type": "code",
      "source": [
        "def playgame(game,strategies:dict,verbose=False):\n",
        " \"\"\"Play a turn−taking game. strategies is a player name: function dict,\n",
        " where function(state, game) is used to get the player s move.\"\"\"\n",
        " state = game.initial\n",
        " while not game.is_terminal(state):\n",
        "  player = state.to_move\n",
        "  move = strategies[player](game,state)\n",
        "  state = game.result(state, move)\n",
        " if verbose:\n",
        "  print('Player',player,'move:',move)\n",
        "  print(state)\n",
        " return state"
      ],
      "metadata": {
        "id": "M_C1DojoOWsr"
      },
      "execution_count": 15,
      "outputs": []
    },
    {
      "cell_type": "markdown",
      "source": [
        "# Part 2 Implement the Game Strategy Algorithms."
      ],
      "metadata": {
        "id": "w4daRj8YOd8a"
      }
    },
    {
      "cell_type": "markdown",
      "source": [
        " 1. Implement the MiniMax Search Algorithm"
      ],
      "metadata": {
        "id": "F3mxGtjPOj6O"
      }
    },
    {
      "cell_type": "code",
      "source": [
        " def minimax_search(game,state):\n",
        "    \"\"\"Search game tree to determine best move; return (value, move) pair.\"\"\"\n",
        "    player = state.to_move\n",
        "    def max_value(state):\n",
        "        if game.is_terminal(state):\n",
        "            return game.utility(state,player),None\n",
        "        v,move =-float('inf'),None\n",
        "        for a in game.actions(state):\n",
        "            v2,_=min_value(game.result(state,a))\n",
        "            if v2>v:\n",
        "                v,move=v2,a\n",
        "        return v,move\n",
        "    def min_value(state):\n",
        "        if game.is_terminal(state):\n",
        "            return game.utility(state,player),None\n",
        "        v, move=+infinity,None\n",
        "        for a in game.actions(state):\n",
        "            v2,_=max_value(game.result(state,a))\n",
        "            if v2<v:\n",
        "                v,move=v2,a\n",
        "        return v, move\n",
        "    return max_value(state)\n",
        " infinity=float('inf')"
      ],
      "metadata": {
        "id": "uJWvmCQjOpse"
      },
      "execution_count": 16,
      "outputs": []
    },
    {
      "cell_type": "markdown",
      "source": [
        "2. Implement the Alpha-Beta Search Algorithm"
      ],
      "metadata": {
        "id": "KQzwuMsOOxxL"
      }
    },
    {
      "cell_type": "code",
      "source": [
        "def alphabeta_search(game, state):\n",
        "    \"\"\"Search game to determine best action; use alpha−beta pruning.\n",
        "          Search all the way to the leaves.\"\"\"\n",
        "    player = state.to_move\n",
        "    def max_value(state,alpha,beta):\n",
        "        if game.is_terminal(state):\n",
        "            return game.utility(state, player), None\n",
        "        v, move = -float('inf'),None\n",
        "        for a in game.actions(state):\n",
        "            v2,_ = min_value(game.result(state, a), alpha, beta)\n",
        "            if v2 > v:\n",
        "                v, move = v2, a\n",
        "            alpha = max(alpha, v)\n",
        "            if v >= beta:\n",
        "                return v, move\n",
        "        return v, move\n",
        "    def min_value(state, alpha, beta):\n",
        "        if game.is_terminal(state):\n",
        "            return game.utility(state, player), None\n",
        "        v, move = +infinity, None\n",
        "        for a in game.actions(state):\n",
        "            v2,_= max_value(game.result(state,a), alpha, beta)\n",
        "            if v2 < v:\n",
        "                v, move = v2,a\n",
        "            beta = min(beta,v)\n",
        "            if v <= alpha:\n",
        "                return v,move\n",
        "        return v, move\n",
        "    return max_value(state,-infinity,+infinity)\n",
        "infinity=float('inf')"
      ],
      "metadata": {
        "id": "wWkrl2xiOzZ-"
      },
      "execution_count": 17,
      "outputs": []
    },
    {
      "cell_type": "markdown",
      "source": [
        "# Part 3 Implement the Game Strategy using **TicTocToe**"
      ],
      "metadata": {
        "id": "j4r-J8b9R72r"
      }
    },
    {
      "cell_type": "code",
      "source": [
        "!pip install game\n",
        "from game import*\n",
        "\n",
        "class TicTacToe(Game):\n",
        " def __init__(self, height=3, width=3, k=3):\n",
        "   self.k = k\n",
        "   self.squares = {(x, y) for x in range(width) for y in range(height)}\n",
        "   self.initial = Board(height=height, width=width, to_move= X , utility=0)\n",
        " def actions(self, board):\n",
        "  return self.squares - set(board)\n",
        " def result(self, board, square):\n",
        "  player = board.to_move\n",
        "  board = board.new( {square: player }, to_move=( 'O' if player == X else X ))\n",
        "  win = k in row(board, player, square, self.k)\n",
        "  board.utility = (0 if not win else +1 if player == 'X' else -1)\n",
        "  return board\n",
        " def utility(self, board, player):\n",
        "  return board.utility if player == 'X' else -board.utility\n",
        " def is_terminal(self, board):\n",
        "  return board.utility != 0 or len(self.squares) == len(board)\n",
        " def display(self, board):\n",
        "  print(board)\n",
        " def k_in_row(board, player, square, k):\n",
        "  def in_row(x, y, dx, dy):\n",
        "    return 0 if board[x, y] != player else 1 + in_row(x + dx, y + dy, dx, dy)\n",
        "    return any(in_row(*square, dx, dy) + in_row(*square, -dx, -dy)-1>=k\n",
        "for (dx, dy) in ((0, 1), (1, 0), (1, 1), (1, -1)))"
      ],
      "metadata": {
        "id": "hdUiiPpVR-7R",
        "collapsed": true,
        "colab": {
          "base_uri": "https://localhost:8080/"
        },
        "outputId": "2aecb159-cfb4-46cb-ec62-66ae01321f18"
      },
      "execution_count": 20,
      "outputs": [
        {
          "output_type": "stream",
          "name": "stdout",
          "text": [
            "Requirement already satisfied: game in /usr/local/lib/python3.10/dist-packages (0.0.5)\n"
          ]
        }
      ]
    },
    {
      "cell_type": "code",
      "source": [
        "from collections import defaultdict\n",
        "\n",
        "class Board(defaultdict):\n",
        " empty = '.'\n",
        " off ='#'\n",
        "def __init__(self, width=8, height=8, to_move=None, **kwds):\n",
        "  self.__dict__.update(width=width,height=height, to_move=to_move, **kwds)\n",
        "def new(self, changes: dict, **kwds) -> Board :\n",
        "  board = Board(width=self.width, height=self.height, **kwds)\n",
        "  board.update(self)\n",
        "  board.update(changes)\n",
        "  return board\n",
        "def __missing__ (self, loc):\n",
        "  x, y = loc\n",
        "  if 0 <= x < self.width and 0 <= y < self.height:\n",
        "    return self.empty\n",
        "  else:\n",
        "    return self.off\n",
        "def __hash__(self):\n",
        "  return hash(tuple(sorted(self.items()))) + hash(self.to_move)\n",
        "def __repr__(self):\n",
        "   def row(y):\n",
        "    return ' '.join(self[x,y] for x in range(self.width))\n",
        "    return '\\n.'.join(map(row,range(self.height)))+'\\n'"
      ],
      "metadata": {
        "collapsed": true,
        "id": "XxuTTy4tWKEG"
      },
      "execution_count": 22,
      "outputs": []
    },
    {
      "cell_type": "code",
      "source": [
        "def random_player(game,state):\n",
        "  return random.choice(list(game.actions(state)))\n",
        "def player(search_algorithm):\n",
        "  #Agame player who uses the specified search algorithm\n",
        "  return lambda game, state: search_algorithm(game, state)[1]"
      ],
      "metadata": {
        "id": "t4ZDIWt1WmZn"
      },
      "execution_count": null,
      "outputs": []
    },
    {
      "cell_type": "code",
      "source": [
        "play_game(TicTacToe(), dict(X=random_player,O=player(alphabeta_search)), verbose=True).utility\n",
        "play_game(TicTacToe(), dict(X=player(alphabeta_search),O=player(minimax_search)), verbose=True).utility\n",
        "\n",
        ""
      ],
      "metadata": {
        "id": "xxwDXRSDWpqZ"
      },
      "execution_count": null,
      "outputs": []
    }
  ]
}